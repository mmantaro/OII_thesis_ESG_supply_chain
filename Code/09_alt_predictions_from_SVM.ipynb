{
 "cells": [
  {
   "cell_type": "markdown",
   "id": "17a9bc4c-f180-41db-a347-76c2c341ac56",
   "metadata": {},
   "source": [
    "# Get SVM predictions"
   ]
  },
  {
   "cell_type": "code",
   "execution_count": null,
   "id": "41607845-a7a3-4b2d-8ba8-81ec88a8f65b",
   "metadata": {},
   "outputs": [],
   "source": [
    "# Import modules\n",
    "import pandas as pd\n",
    "from sklearn.pipeline import Pipeline, make_pipeline\n",
    "from sklearn.metrics import confusion_matrix, accuracy_score, classification_report, roc_auc_score, f1_score\n",
    "from sklearn.feature_extraction.text import TfidfVectorizer\n",
    "from sklearn.svm import SVC\n",
    "from sklearn.utils import shuffle"
   ]
  },
  {
   "cell_type": "code",
   "execution_count": null,
   "id": "471322e2-d022-4ceb-8909-ef6eaf199471",
   "metadata": {},
   "outputs": [],
   "source": [
    "# Load saved baseline models\n",
    "with open(\"../Data/baseline_models.txt\", \"rb\") as f:\n",
    "    baseline_models = pickle.load(f)\n",
    "\n",
    "aug_svm_dict = baseline_models['aug_svm_dict']\n",
    "svm_dict = baseline_models['svm_dict']"
   ]
  },
  {
   "cell_type": "code",
   "execution_count": null,
   "id": "26e76d5d-fe1a-46d9-9b55-96a130414de5",
   "metadata": {},
   "outputs": [],
   "source": [
    "# Get alternate predictions using SVM (& save)\n",
    "to_pred = pd.read_pickle('../Data/paragraph_df.pkl')\n",
    "to_pred = to_pred[to_pred['Supply_Chain']=='Yes']\n",
    "\n",
    "to_pred['Process_action_alt'] = aug_svm_dict['Process_action']['Model'].predict(to_pred['Paragraph'])\n",
    "to_pred['Social_alt'] = svm_dict['Social']['Model'].predict(to_pred['Paragraph'])\n",
    "\n",
    "to_pred.to_pickle('../Data/svm_alt_preds.pkl')"
   ]
  },
  {
   "cell_type": "code",
   "execution_count": null,
   "id": "bb618fb5-4dcc-46f9-9a32-d3f15a818bdc",
   "metadata": {},
   "outputs": [],
   "source": [
    "to_pred.head()"
   ]
  }
 ],
 "metadata": {
  "kernelspec": {
   "display_name": "Python 3",
   "language": "python",
   "name": "python3"
  },
  "language_info": {
   "codemirror_mode": {
    "name": "ipython",
    "version": 3
   },
   "file_extension": ".py",
   "mimetype": "text/x-python",
   "name": "python",
   "nbconvert_exporter": "python",
   "pygments_lexer": "ipython3",
   "version": "3.8.8"
  }
 },
 "nbformat": 4,
 "nbformat_minor": 5
}
