{
 "cells": [
  {
   "cell_type": "markdown",
   "id": "d2ebce1b-5e0f-4ad8-85df-98ba25c8096b",
   "metadata": {},
   "source": [
    "# Train-test-validation split"
   ]
  },
  {
   "cell_type": "code",
   "execution_count": null,
   "id": "489fa5f2-8180-4824-b1b8-881a688662ae",
   "metadata": {},
   "outputs": [],
   "source": [
    "import pandas as pd\n",
    "import numpy as np\n",
    "from sklearn.model_selection import train_test_split"
   ]
  },
  {
   "cell_type": "code",
   "execution_count": null,
   "id": "238158ab-fdac-4de1-b513-22cc995b8edf",
   "metadata": {},
   "outputs": [],
   "source": [
    "# Import labelled data from Excel\n",
    "labelled_data = pd.read_excel('../Data/labelled_data.xlsx')\n",
    "\n",
    "# Ensure datatypes are correct\n",
    "labelled_data['Paragraph'] = labelled_data['Paragraph'].astype(str)\n",
    "labelled_data['Process_action'] = labelled_data['Process_action'].astype('int')\n",
    "labelled_data['Market_action'] = labelled_data['Market_action'].astype('int')\n",
    "\n",
    "# Save labelled data to pickle for future use\n",
    "final_label_set.to_pickle('../Data/final_label_set.pkl')\n",
    "\n",
    "# Set index and check\n",
    "labelled_data.set_index('Index',inplace=True)\n",
    "labelled_data.head(2)"
   ]
  },
  {
   "cell_type": "code",
   "execution_count": null,
   "id": "f206e6fa-17d6-49f7-bcd6-f64af4ef6a3d",
   "metadata": {},
   "outputs": [],
   "source": [
    "# Create a column that combines labels in all four classification tasks (to use with split)\n",
    "labelled_data['All4'] = labelled_data.apply(lambda x: str(x['Process_action'])+str(x['Market_action'])+str(x['Social'])+str(x['Environment']), \n",
    "                                                    axis=1)\n",
    "labelled_data['All4'].value_counts()"
   ]
  },
  {
   "cell_type": "code",
   "execution_count": null,
   "id": "74f488c7-d7d7-4ebf-8c70-a851e96241ba",
   "metadata": {},
   "outputs": [],
   "source": [
    "# Split into train, val, and test using 80-10-10 split\n",
    "train, val_test = train_test_split(labelled_data, \n",
    "                                   test_size=0.2, \n",
    "                                   random_state=42, \n",
    "                                   stratify=labelled_data['All4'])\n",
    "val, test = train_test_split(val_test,  \n",
    "                             test_size=0.5, \n",
    "                             random_state=42, \n",
    "                             stratify=val_test['All4'])"
   ]
  },
  {
   "cell_type": "code",
   "execution_count": null,
   "id": "519f68c4-dc6e-46c1-a427-491d56887b21",
   "metadata": {},
   "outputs": [],
   "source": [
    "train.to_pickle('../Data/train.pkl')\n",
    "val.to_pickle('../Data/val.pkl')\n",
    "test.to_pickle('../Data/test.pkl')"
   ]
  }
 ],
 "metadata": {
  "kernelspec": {
   "display_name": "Python 3",
   "language": "python",
   "name": "python3"
  },
  "language_info": {
   "codemirror_mode": {
    "name": "ipython",
    "version": 3
   },
   "file_extension": ".py",
   "mimetype": "text/x-python",
   "name": "python",
   "nbconvert_exporter": "python",
   "pygments_lexer": "ipython3",
   "version": "3.8.8"
  }
 },
 "nbformat": 4,
 "nbformat_minor": 5
}
