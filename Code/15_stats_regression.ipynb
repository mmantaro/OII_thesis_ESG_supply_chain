{
 "cells": [
  {
   "cell_type": "markdown",
   "id": "feab5cb2-4280-48db-863e-765ee86826e7",
   "metadata": {},
   "source": [
    "# Fixed effect regression models"
   ]
  },
  {
   "cell_type": "markdown",
   "id": "75f3a377-f408-441a-9e67-3c25347b19ca",
   "metadata": {},
   "source": [
    "## Set-up"
   ]
  },
  {
   "cell_type": "code",
   "execution_count": 1,
   "id": "e5144f39-c087-4c6d-946e-f8449f62c5ca",
   "metadata": {},
   "outputs": [],
   "source": [
    "import pandas as pd\n",
    "import numpy as np\n",
    "import pickle\n",
    "import statsmodels.formula.api as smf\n",
    "import matplotlib.pyplot as plt\n",
    "import seaborn as sns\n",
    "from scipy import stats\n",
    "from sklearn.preprocessing import minmax_scale\n",
    "import statsmodels.stats.api as sms\n",
    "from statsmodels.compat import lzip\n",
    "from statsmodels.stats.stattools import durbin_watson\n",
    "import itertools\n",
    "from linearmodels import PooledOLS\n",
    "import statsmodels.api as sm\n",
    "from statsmodels.stats.diagnostic import het_white, het_breuschpagan\n",
    "import numpy.linalg as la\n",
    "from scipy import stats\n",
    "import numpy as np\n",
    "from linearmodels import PanelOLS\n",
    "from linearmodels import RandomEffects\n",
    "import statsmodels.api as sm\n",
    "from linearmodels.panel import compare\n",
    "import csv\n",
    "from io import StringIO"
   ]
  },
  {
   "cell_type": "code",
   "execution_count": 2,
   "id": "167bb11f-f179-4b2f-810c-81fcb617cad7",
   "metadata": {},
   "outputs": [],
   "source": [
    "# Import final dataframe\n",
    "data = pd.read_pickle('../Data/Variable dataframes/company_details_pivoted.pkl')"
   ]
  },
  {
   "cell_type": "markdown",
   "id": "7036735d-1c8a-43d7-8648-db6d38179094",
   "metadata": {},
   "source": [
    "## Time fixed effects with clustered errors"
   ]
  },
  {
   "cell_type": "markdown",
   "id": "81e727bf-ac17-4e56-a133-5627658edb01",
   "metadata": {},
   "source": [
    "### Data set-up"
   ]
  },
  {
   "cell_type": "code",
   "execution_count": 3,
   "id": "361bf4f1-b04a-457a-8c18-18b1b0f084d2",
   "metadata": {},
   "outputs": [],
   "source": [
    "# Set multi-index (needed for fixed effects models) and set dtypes\n",
    "data['Year_num'] = pd.to_numeric(data['Year'], errors='coerce')\n",
    "mi_data_firm = data.set_index([\"Exchange-Ticker\", \"Year_num\"])\n",
    "for col in ['Controversies_all_bool', 'Sensitive', \n",
    "            'sustainability_comp_incentives', 'global_compact']:\n",
    "    mi_data_firm[col] = pd.to_numeric(mi_data_firm[col], errors='coerce')\n",
    "\n",
    "# Get exog variable options\n",
    "exog_vars_main = ['Sensitive', 'ESG_controversies_numeric',\n",
    "             'board_gender_diversity', \n",
    "             'sustainability_comp_incentives']\n",
    "exog_vars_w_control = ['Sensitive', 'ESG_controversies_numeric',\n",
    "                       'board_gender_diversity', \n",
    "                       'sustainability_comp_incentives', \n",
    "                       'log_total_revenue', 'trimmed_ROA', \n",
    "                       'trimmed_liabilities_to_assets', \n",
    "                       'trimmed_book_val_per_share']\n",
    "exog_vars_lagged = ['Sensitive', \n",
    "                    'ESG_controversies_numeric_lag1',\n",
    "                    'board_gender_diversity_lag1', \n",
    "                    'sustainability_comp_incentives_lag1', \n",
    "                    'log_total_revenue', 'trimmed_ROA', \n",
    "                       'trimmed_liabilities_to_assets', \n",
    "                       'trimmed_book_val_per_share']\n",
    "\n",
    "# Get endog variables from original predictions\n",
    "endog_options = ['Market_to_process_log','Env_market_to_process_log',\n",
    "                  'Soc_market_to_process_log']\n",
    "\n",
    "# Get endog variables from alternate predictions\n",
    "endog_options_alt = ['Market_to_process_log_alt','Env_market_to_process_log_alt',\n",
    "                  'Soc_market_to_process_log_alt']\n",
    "\n",
    "# Set up industry and geography dummy variables\n",
    "mi_data_firm = pd.get_dummies(mi_data_firm, columns=['main_industry','geo_region'], drop_first=True)\n",
    "mi_data_firm.rename(columns={'main_industry_Consumer Durables and Apparel (Primary)':'ind_dur_app',\n",
    "                             'main_industry_Consumer Services (Primary)':'ind_serv',\n",
    "                             'main_industry_Food and Staples Retailing (Primary)':'ind_food_ret',\n",
    "                             'main_industry_Food, Beverage and Tobacco (Primary)':'ind_food_bev',\n",
    "                             'main_industry_Household and Personal Products (Primary)':'ind_house_pers',\n",
    "                             'main_industry_Retailing (Primary)':'ind_ret',\n",
    "                             'geo_region_Europe':'europe',\n",
    "                             'geo_region_Latin America and Caribbean':'lat_am',\n",
    "                             'geo_region_United States and Canada':'us_can'}, inplace=True)\n",
    "ind_geo_dummy_cols = ['ind_dur_app','ind_serv','ind_food_ret','ind_food_bev','ind_house_pers',\n",
    "              'ind_ret','europe','lat_am','us_can']\n",
    "ind_dummies = ['ind_dur_app','ind_serv','ind_food_ret','ind_food_bev','ind_house_pers',\n",
    "              'ind_ret']\n",
    "geo_dummies = ['europe','lat_am','us_can']"
   ]
  },
  {
   "cell_type": "markdown",
   "id": "44c96e4a-4525-4a43-9c73-0293b1fcf875",
   "metadata": {},
   "source": [
    "### Function set-up"
   ]
  },
  {
   "cell_type": "code",
   "execution_count": 4,
   "id": "1d004c6f-c2ee-4845-884f-6a7cf6ae74d4",
   "metadata": {},
   "outputs": [],
   "source": [
    "def compare_models(endog_cols, filename, model_names):\n",
    "    model_dict = dict()\n",
    "    for endog_col, endog_name in zip(endog_cols, model_names):\n",
    "        # MAIN\n",
    "        mi_data_firm_no_na = mi_data_firm[exog_vars_main + ind_dummies + endog_cols].dropna()\n",
    "\n",
    "        # Regression dummies and year fixed effects\n",
    "        exog = sm.add_constant(mi_data_firm_no_na[exog_vars_main + ind_dummies])\n",
    "        FE = PanelOLS(mi_data_firm_no_na[endog_col], exog, \n",
    "                      time_effects=True, entity_effects=False)\n",
    "        # Result\n",
    "        main_res = FE.fit(cov_type = 'clustered',\n",
    "                     cluster_entity=True,\n",
    "                     cluster_time=True\n",
    "                     )\n",
    "        model_dict[f'main {endog_name}'] = main_res\n",
    "\n",
    "        # MAIN W CONTROLS\n",
    "        mi_data_firm_no_na = mi_data_firm[exog_vars_w_control + ind_geo_dummy_cols + endog_cols].dropna()\n",
    "\n",
    "        # Regression dummies and year fixed effects\n",
    "        exog = sm.add_constant(mi_data_firm_no_na[exog_vars_w_control + ind_geo_dummy_cols])\n",
    "        FE = PanelOLS(mi_data_firm_no_na[endog_col], exog, \n",
    "                      time_effects=True, entity_effects=False)\n",
    "\n",
    "        # Result\n",
    "        main_control_res = FE.fit(cov_type = 'clustered',\n",
    "                     cluster_entity=True,\n",
    "                     cluster_time=True\n",
    "                     )\n",
    "        model_dict[f'main with controls {endog_name}'] = main_control_res\n",
    "\n",
    "        # LAGGED\n",
    "        mi_data_firm_no_na = mi_data_firm[exog_vars_lagged + ind_geo_dummy_cols + endog_cols].dropna()\n",
    "\n",
    "        # Regression dummies and year fixed effects\n",
    "        exog = sm.add_constant(mi_data_firm_no_na[exog_vars_lagged + ind_geo_dummy_cols])\n",
    "        FE = PanelOLS(mi_data_firm_no_na[endog_col], exog, \n",
    "                      time_effects=True, entity_effects=False)\n",
    "\n",
    "        # Result\n",
    "        lagged_res = FE.fit(cov_type = 'clustered',\n",
    "                     cluster_entity=True,\n",
    "                     cluster_time=True\n",
    "                     )\n",
    "        model_dict[f'lagged {endog_name}'] = lagged_res\n",
    "\n",
    "    comparison = compare(model_dict, \n",
    "                  stars=True, precision='std_errors')\n",
    "    \n",
    "    #print(comparison)\n",
    "    comparison_df = pd.read_csv(StringIO(comparison.summary.as_csv()), \n",
    "                     skiprows=1, skipfooter=1, engine='python')\n",
    "    comparison_df.to_excel(f'../Data/{filename}_model_res.xlsx')"
   ]
  },
  {
   "cell_type": "markdown",
   "id": "65a5997e-aff9-416b-a19a-0ce7a2e8ad46",
   "metadata": {},
   "source": [
    "### Models using original predictions "
   ]
  },
  {
   "cell_type": "code",
   "execution_count": 5,
   "id": "76551232-a39d-4821-8215-5808f5c4eb9a",
   "metadata": {},
   "outputs": [],
   "source": [
    "compare_models(endog_cols=endog_options, \n",
    "               filename='fixed_effects_models',\n",
    "               model_names=endog_options)"
   ]
  },
  {
   "cell_type": "markdown",
   "id": "d1660645-2b4a-48be-a898-4479c8ff3fff",
   "metadata": {},
   "source": [
    "### Models using alternate predictions "
   ]
  },
  {
   "cell_type": "code",
   "execution_count": 6,
   "id": "33b02af6-871d-4adc-a58d-80c569bdf7b4",
   "metadata": {},
   "outputs": [],
   "source": [
    "compare_models(endog_cols=endog_options_alt, \n",
    "               filename='fixed_effects_models_alternate',\n",
    "               model_names=endog_options_alt)"
   ]
  }
 ],
 "metadata": {
  "kernelspec": {
   "display_name": "Python 3",
   "language": "python",
   "name": "python3"
  },
  "language_info": {
   "codemirror_mode": {
    "name": "ipython",
    "version": 3
   },
   "file_extension": ".py",
   "mimetype": "text/x-python",
   "name": "python",
   "nbconvert_exporter": "python",
   "pygments_lexer": "ipython3",
   "version": "3.8.8"
  }
 },
 "nbformat": 4,
 "nbformat_minor": 5
}
