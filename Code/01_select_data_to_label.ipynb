{
 "cells": [
  {
   "cell_type": "markdown",
   "id": "96554dad-05ce-4d26-952b-def0776e96f9",
   "metadata": {},
   "source": [
    "# Select data to label"
   ]
  },
  {
   "cell_type": "code",
   "execution_count": null,
   "id": "3cf2621b-0575-452f-9069-34a6d2131f6e",
   "metadata": {},
   "outputs": [],
   "source": [
    "import pandas as pd\n",
    "import numpy as np"
   ]
  },
  {
   "cell_type": "code",
   "execution_count": null,
   "id": "240b143b-9e62-4140-8f94-bd3a5d8f3381",
   "metadata": {},
   "outputs": [],
   "source": [
    "# Import data from pickle\n",
    "paragraph_df = pd.read_pickle('../Data/paragraph_df.pkl')\n",
    "sc_only_para_df = paras_no_sents_df[paras_no_sents_df['Supply_Chain']=='Yes']"
   ]
  },
  {
   "cell_type": "code",
   "execution_count": null,
   "id": "11c56c8c-2f03-46d6-8736-daa3afecb748",
   "metadata": {},
   "outputs": [],
   "source": [
    "sc_only_para_df.head(3)"
   ]
  },
  {
   "cell_type": "code",
   "execution_count": null,
   "id": "d92cbae2-4043-4144-8857-a7694be4d66b",
   "metadata": {},
   "outputs": [],
   "source": [
    "percent_10 = len(sc_only_para_df) *.1\n",
    "print(percent_10)"
   ]
  },
  {
   "cell_type": "code",
   "execution_count": null,
   "id": "923c39a6-e639-4388-9947-0c183a2ec152",
   "metadata": {},
   "outputs": [],
   "source": [
    "# Send to Excel\n",
    "sampled_df = sc_only_para_df.sample(round(percent_10))\n",
    "sampled_df.to_excel('../Data/sampled_paragraphs.xlsx')"
   ]
  }
 ],
 "metadata": {
  "kernelspec": {
   "display_name": "Python 3",
   "language": "python",
   "name": "python3"
  },
  "language_info": {
   "codemirror_mode": {
    "name": "ipython",
    "version": 3
   },
   "file_extension": ".py",
   "mimetype": "text/x-python",
   "name": "python",
   "nbconvert_exporter": "python",
   "pygments_lexer": "ipython3",
   "version": "3.8.8"
  }
 },
 "nbformat": 4,
 "nbformat_minor": 5
}
